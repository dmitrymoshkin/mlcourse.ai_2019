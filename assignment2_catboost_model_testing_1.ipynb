{
 "cells": [
  {
   "cell_type": "code",
   "execution_count": 1,
   "metadata": {
    "pycharm": {
     "is_executing": false
    }
   },
   "outputs": [
    {
     "data": {
      "text/html": [
       "        <script type=\"text/javascript\">\n",
       "        window.PlotlyConfig = {MathJaxConfig: 'local'};\n",
       "        if (window.MathJax) {MathJax.Hub.Config({SVG: {font: \"STIX-Web\"}});}\n",
       "        if (typeof require !== 'undefined') {\n",
       "        require.undef(\"plotly\");\n",
       "        requirejs.config({\n",
       "            paths: {\n",
       "                'plotly': ['https://cdn.plot.ly/plotly-latest.min']\n",
       "            }\n",
       "        });\n",
       "        require(['plotly'], function(Plotly) {\n",
       "            window._Plotly = Plotly;\n",
       "        });\n",
       "        }\n",
       "        </script>\n",
       "        "
      ]
     },
     "metadata": {},
     "output_type": "display_data"
    }
   ],
   "source": [
    "import warnings\n",
    "import numpy as np\n",
    "import pandas as pd\n",
    "import seaborn as sns\n",
    "import plotly_express as px\n",
    "from pathlib import Path\n",
    "from sklearn.model_selection import train_test_split\n",
    "from sklearn.linear_model import SGDClassifier\n",
    "from sklearn.metrics import roc_auc_score\n",
    "from catboost import CatBoostClassifier\n",
    "from catboost import cv\n",
    "from catboost import Pool\n",
    "from matplotlib import pyplot as plt\n",
    "from sklearn.preprocessing import scale\n",
    "\n",
    "\n",
    "from plotly.offline import init_notebook_mode, iplot\n",
    "init_notebook_mode(connected=True)\n",
    "import plotly.graph_objs as go\n",
    "\n",
    "\n",
    "%matplotlib inline"
   ]
  },
  {
   "cell_type": "markdown",
   "metadata": {
    "pycharm": {
     "is_executing": false,
     "name": "#%% md\n"
    }
   },
   "source": [
    "\n",
    "Model is builded from the scratch\n",
    "\n",
    "---\n",
    "What have NOT been made:\n",
    "- DepTime_cat  24 категорий, удалены хвосты\n",
    "- DepTime_cat - 24 категорий, удалены хвосты\n",
    "- Флаги на месяцах\n",
    "- Dep_minute\n",
    "- DepTimeLog\n",
    "- DepTimepairs - как категориальный фич\n",
    "- DepTimesqrt\n",
    "---"
   ]
  },
  {
   "cell_type": "markdown",
   "metadata": {
    "pycharm": {
     "name": "#%% md\n"
    }
   },
   "source": [
    "## Ход тестирования\n",
    "\n",
    "\n",
    "1. Стандартный baseline: 0.7612620434\n",
    "2. Отскейленые DepTime и Distance: 0.7612620434\n",
    "3. Отскейленые DepTime, Distance, DepTimeLog: 0.7605898869\n",
    "4. Отскейленые DepTime, Distance и дропнутый хвост ['DepTime'] >= 330: 0.7655446758\n",
    "5. Отскейленые DepTime, Distance и дропнутый хвост ['DepTime'] >= 500: 0.7612620434\n",
    "6. Отскейленые DepTime, Distance и дропнутый хвост ['DepTime'] >= 450: 0.7605665271\n",
    "7. Отскейленые DepTime, Distance и дропнутый хвост ['DepTime'] >= 450 & ['DepTime'] <= 80: 0.7563055661\n",
    "8. Отскейленые DepTime, Distance и дропнутый хвост ['DepTime'] >= 350: 0.7603290604\n",
    "8. Отскейленые DepTime, Distance и дропнутый хвост ['DepTime'] >= 300: 0.7615391716\n",
    "\n",
    "***Дропнутый хвост ['DepTime'] >= 330 с лучшим рез. на отлженной выборке приводит к падению на 0.0925 на kaggle по\n",
    "сравнению со стандатным baseline, не говоря уже о других порогах (500, 459, 350, 300)***\n",
    "9. Отскейленые DepTime, Distance, DepTimesq: 0.7605898869\n",
    "10. Отскейленые DepTime, Distance, DepTimesqrt: 0.7605898869\n",
    "11. DepTime, Distance, DepTimesqrt: 0.7605898869\n",
    "12. Отскейленые DepTime, Distance; DepTime_cat (категориальный): 0.7769286607; CV_3_folds: 0.7763139 (999)\n",
    "13. Отскейленые DepTime, Distance; DepTime_cat (категориальный), дропнутые хвосты DepTime_cat: 0.7840374983. На kaggle\n",
    "ПАДЕНИЕ на 0.0728 по сравнению с п. 12\n",
    "14. Отскейленые DepTime, Distance, DepTimeLog; DepTime_cat (категориальный): 0.7769629497. На kaggle, по\n",
    "сравнению с п. 12, ПАДЕНИЕ на 0.00048‬\n",
    "15. Отскейленые DepTime, Distance; DepTime_cat (категор.), distance_cat (категор.): 0.7757000176; kaggle: \n",
    "16. Отскейленые DepTime, Distance; distance_cat DepTime_cat (категор.): 0.7741272155\n",
    "17. Отскейленые DepTime, Distance; DepTime_cat (категор.), distance_cat (категор.), дропнутые хвосты distance_cat: \n",
    "0.778180006; CV_3_folds: 0.7746258 (999)\n",
    "18. Отскейленые DepTime, Distance; DepTime_cat (категор.), DepTimepairs (категор.): 0.7772042563\n",
    "; CV_3_folds: 0.7762758 (999)\n",
    "19. Отскейленые DepTime, Distance, 'Dep_minute'; DepTime_cat (категор.): ***0.8055365684; CV_3_folds: 0.7865618; \n",
    "kaggle: 0.75972***\n",
    "20. DepTime, Distance, 'Dep_minute'; DepTime_cat (категор.): CV_3_folds: 0.7865618 (999)\n",
    "21. Отскейленые DepTime, Distance, 'Dep_minute'; DepTime_cat (категор.), флаг 'Months [6,7,12]': kaggle: 0.75727\n",
    "\n",
    "\n"
   ]
  },
  {
   "cell_type": "code",
   "execution_count": 2,
   "metadata": {
    "pycharm": {
     "is_executing": false
    }
   },
   "outputs": [],
   "source": [
    "train_df_fd = pd.read_csv('flight_delays_train.csv')\n",
    "test_df_fd = pd.read_csv('flight_delays_test.csv')\n",
    "train_df_fd['flight'] = train_df_fd['Origin'] + '-->' + train_df_fd['Dest']\n",
    "test_df_fd['flight'] = test_df_fd['Origin'] + '-->' + test_df_fd['Dest']\n",
    "train_df_fd['dep_delayed_15min'] = train_df_fd['dep_delayed_15min'].map({'Y' : 1, 'N' : 0})\n",
    "categ_feat_idx = np.where(train_df_fd.drop('dep_delayed_15min', axis=1).dtypes == 'object')[0]\n",
    "\n",
    "train_df_fd.Month.replace(['c-%d' % i for i in range(1, 13)], list(range(1, 13)), inplace=True)\n",
    "test_df_fd.Month.replace(['c-%d' % i for i in range(1, 13)], list(range(1, 13)), inplace=True)\n",
    "train_df_fd.DayofMonth.replace(['c-%d' % i for i in range(1, 32)], list(range(1, 32)), inplace=True)\n",
    "test_df_fd.DayofMonth.replace(['c-%d' % i for i in range(1, 32)], list(range(1, 32)), inplace=True)\n",
    "train_df_fd.DayOfWeek.replace(['c-%d' % i for i in range(1, 8)], list(range(1, 8)), inplace=True)\n",
    "test_df_fd.DayOfWeek.replace(['c-%d' % i for i in range(1, 8)], list(range(1, 8)), inplace=True)"
   ]
  },
  {
   "cell_type": "code",
   "execution_count": 360,
   "metadata": {
    "pycharm": {
     "is_executing": false,
     "name": "#%%\n"
    }
   },
   "outputs": [],
   "source": [
    "# Дропнем хвосты\n",
    "\n",
    "# train_df_fd  = train_df_fd[train_df_fd['DepTime'] >= 330]"
   ]
  },
  {
   "cell_type": "code",
   "execution_count": 10,
   "metadata": {
    "pycharm": {
     "is_executing": false
    }
   },
   "outputs": [],
   "source": [
    "# Дистанция и время отправления\n",
    "train_df_fd['DepTime_cat'] = np.floor(train_df_fd.DepTime / 100).astype('int')\n",
    "test_df_fd['DepTime_cat'] = np.floor(test_df_fd.DepTime / 100).astype('int')\n",
    "# train_df_fd = train_df_fd[(train_df_fd['DepTime_cat'] > 4) & (train_df_fd['DepTime_cat'] < 24)]\n",
    "# train_df_fd['distance_cat'] = np.floor(train_df_fd.Distance / 200).astype('int')\n",
    "# test_df_fd['distance_cat'] = np.floor(test_df_fd.Distance / 200).astype('int')\n",
    "# train_df_fd = train_df_fd[train_df_fd['distance_cat'] < 15]\n",
    "\n",
    "# Дни и месяцы\n",
    "\n",
    "# train_df_fd['Months [6,7,12]'] = train_df_fd['Month'].apply(lambda x: 1 if x >= 6 \\\n",
    "#                                                          and x <= 7 or x == 12 else 0)\n",
    "# test_df_fd['Months [6,7,12]'] = test_df_fd['Month'].apply(lambda x: 1 if x >= 6 \\\n",
    "#                                                        and x <= 7  or x == 12 else 0)\n",
    "# train_df_fd['Months [2,3]'] = train_df_fd['Month'].apply(lambda x: 1 if x >= 2 \\\n",
    "#                                                          and x <= 3 else 0)\n",
    "# test_df_fd['Months [2,3]'] = test_df_fd['Month'].apply(lambda x: 1 if x >= 2 \\\n",
    "#                                                        and x <= 3 else 0)\n",
    "\n",
    "# Еще признаки\n",
    "train_df_fd['Dep_minute'] =  train_df_fd['DepTime']%100\n",
    "test_df_fd['Dep_minute'] =  test_df_fd['DepTime']%100\n",
    "# train_df_fd['DepTimeLog'] = train_df_fd['DepTime'].apply(lambda x: np.log(x))\n",
    "# test_df_fd['DepTimeLog'] = test_df_fd['DepTime'].apply(lambda x: np.log(x))\n",
    "# train_df_fd['DepTimepairs'] = train_df_fd['DepTime'] * np.append(train_df_fd['DepTime'][1:], 1)\n",
    "# test_df_fd['DepTimepairs'] = test_df_fd['DepTime'] * np.append(test_df_fd['DepTime'][1:], 1)\n",
    "# train_df_fd['DepTimesqrt'] = train_df_fd['DepTime'].apply(lambda x: np.sqrt(x))\n",
    "# test_df_fd['DepTimesqrt'] = test_df_fd['DepTime'].apply(lambda x: np.sqrt(x))\n",
    "\n",
    "# train_df_fd['DepTimesq'] = train_df_fd['DepTime'].apply(lambda x: x**2)\n",
    "# test_df_fd['DepTimesq'] = test_df_fd['DepTime'].apply(lambda x: x**2)"
   ]
  },
  {
   "cell_type": "code",
   "execution_count": 362,
   "metadata": {
    "pycharm": {
     "is_executing": false,
     "name": "#%%\n"
    }
   },
   "outputs": [],
   "source": [
    "# Скейлинг вещественных фичей\n",
    "\n",
    "train_df_fd['DepTime'] = scale(train_df_fd['DepTime'])\n",
    "train_df_fd['Distance'] = scale(train_df_fd['Distance'])\n",
    "test_df_fd['Distance'] = scale(test_df_fd['Distance'])\n",
    "test_df_fd['DepTime'] = scale(test_df_fd['DepTime'])\n",
    "\n",
    "train_df_fd['Dep_minute'] = scale(train_df_fd['Dep_minute'])\n",
    "test_df_fd['Dep_minute'] = scale(test_df_fd['Dep_minute'])\n",
    "\n",
    "# train_df_fd['distance_cat'] = scale(train_df_fd['distance_cat'])\n",
    "# test_df_fd['distance_cat'] = scale(test_df_fd['distance_cat'])\n",
    "# train_df_fd['DepTimesqrt'] = scale(train_df_fd['DepTimesqrt'])\n",
    "# test_df_fd['DepTimesqrt'] = scale(test_df_fd['DepTimesqrt'])\n",
    "# train_df_fd['DepTimesq'] = scale(train_df_fd['DepTimesq'])\n",
    "# test_df_fd['DepTimesq'] = scale(test_df_fd['DepTimesq'])\n",
    "# train_df_fd['DepTimeLog'] = scale(train_df_fd['DepTimeLog'])\n",
    "# test_df_fd['DepTimeLog']  = scale(test_df_fd['DepTimeLog'])"
   ]
  },
  {
   "cell_type": "code",
   "execution_count": 4,
   "metadata": {
    "pycharm": {
     "is_executing": false,
     "name": "#%%\n"
    }
   },
   "outputs": [],
   "source": [
    "y_train = train_df_fd['dep_delayed_15min']\n",
    "train_df_fd = train_df_fd.drop('dep_delayed_15min', axis=1)"
   ]
  },
  {
   "cell_type": "code",
   "execution_count": 5,
   "metadata": {
    "pycharm": {
     "is_executing": false
    }
   },
   "outputs": [
    {
     "data": {
      "text/plain": [
       "(12, Index(['Month', 'DayofMonth', 'DayOfWeek', 'DepTime', 'UniqueCarrier',\n",
       "        'Origin', 'Dest', 'Distance', 'flight', 'DepTime_cat',\n",
       "        'Months [6,7,12]', 'Dep_minute'],\n",
       "       dtype='object'), array([0, 1, 2, 4, 5, 6, 8, 9], dtype=int64))"
      ]
     },
     "execution_count": 5,
     "metadata": {},
     "output_type": "execute_result"
    }
   ],
   "source": [
    "categ_feat_idx = np.append(categ_feat_idx, [9]) \n",
    "\n",
    "X_train_part, X_valid, y_train_part, y_valid = train_test_split(train_df_fd, y_train, \n",
    "                                                                test_size=0.3, \n",
    "                                                                random_state=17)\n",
    "len(X_train_part.columns), X_train_part.columns, categ_feat_idx"
   ]
  },
  {
   "cell_type": "code",
   "execution_count": 365,
   "metadata": {
    "pycharm": {
     "is_executing": false,
     "name": "#%%\n"
    }
   },
   "outputs": [
    {
     "name": "stdout",
     "output_type": "stream",
     "text": [
      "Learning rate set to 0.121895\n",
      "0:\ttest: 0.6622868\tbest: 0.6622868 (0)\ttotal: 68.4ms\tremaining: 1m 8s\n",
      "200:\ttest: 0.7801575\tbest: 0.7801715 (199)\ttotal: 33.9s\tremaining: 2m 14s\n",
      "400:\ttest: 0.7923921\tbest: 0.7923921 (400)\ttotal: 1m 6s\tremaining: 1m 39s\n",
      "600:\ttest: 0.7975710\tbest: 0.7975710 (600)\ttotal: 1m 37s\tremaining: 1m 5s\n",
      "800:\ttest: 0.8032851\tbest: 0.8032851 (800)\ttotal: 2m 14s\tremaining: 33.5s\n",
      "999:\ttest: 0.8054953\tbest: 0.8055366 (995)\ttotal: 2m 50s\tremaining: 0us\n",
      "\n",
      "bestTest = 0.8055365684\n",
      "bestIteration = 995\n",
      "\n",
      "Shrink model to first 996 iterations.\n"
     ]
    }
   ],
   "source": [
    "# %%time\n",
    "ctb = CatBoostClassifier(random_seed=17, eval_metric = 'AUC')\n",
    "ctb.fit(X_train_part, y_train_part,\n",
    "        eval_set=(X_valid, y_valid),\n",
    "        cat_features=categ_feat_idx,\n",
    "        early_stopping_rounds = 500,\n",
    "        verbose = 200,\n",
    "        use_best_model=True,\n",
    "        plot=False,\n",
    "    \n",
    "       );"
   ]
  },
  {
   "cell_type": "code",
   "execution_count": 34,
   "metadata": {
    "pycharm": {
     "is_executing": false,
     "name": "#%%\n"
    }
   },
   "outputs": [
    {
     "name": "stdout",
     "output_type": "stream",
     "text": [
      "Learning rate set to 0.121895\n",
      "0:\ttest: 0.6604672\tbest: 0.6604672 (0)\ttotal: 174ms\tremaining: 2m 53s\n",
      "200:\ttest: 0.7504506\tbest: 0.7504506 (200)\ttotal: 25.1s\tremaining: 1m 39s\n",
      "400:\ttest: 0.7555314\tbest: 0.7555350 (397)\ttotal: 50.7s\tremaining: 1m 15s\n",
      "600:\ttest: 0.7589069\tbest: 0.7589069 (600)\ttotal: 1m 16s\tremaining: 51s\n",
      "800:\ttest: 0.7602943\tbest: 0.7603248 (799)\ttotal: 1m 43s\tremaining: 25.7s\n",
      "999:\ttest: 0.7611861\tbest: 0.7612620 (975)\ttotal: 2m 12s\tremaining: 0us\n",
      "\n",
      "bestTest = 0.7612620434\n",
      "bestIteration = 975\n",
      "\n",
      "Shrink model to first 976 iterations.\n"
     ]
    }
   ],
   "source": [
    "# 1. Стандартный baseline"
   ]
  },
  {
   "cell_type": "code",
   "execution_count": 44,
   "metadata": {
    "pycharm": {
     "is_executing": false
    }
   },
   "outputs": [
    {
     "name": "stdout",
     "output_type": "stream",
     "text": [
      "Learning rate set to 0.121895\n",
      "0:\ttest: 0.6604672\tbest: 0.6604672 (0)\ttotal: 173ms\tremaining: 2m 52s\n",
      "200:\ttest: 0.7504506\tbest: 0.7504506 (200)\ttotal: 26.6s\tremaining: 1m 45s\n",
      "400:\ttest: 0.7555314\tbest: 0.7555350 (397)\ttotal: 52.6s\tremaining: 1m 18s\n",
      "600:\ttest: 0.7589069\tbest: 0.7589069 (600)\ttotal: 1m 18s\tremaining: 52.3s\n",
      "800:\ttest: 0.7602943\tbest: 0.7603248 (799)\ttotal: 1m 45s\tremaining: 26.2s\n",
      "999:\ttest: 0.7611861\tbest: 0.7612620 (975)\ttotal: 2m 16s\tremaining: 0us\n",
      "\n",
      "bestTest = 0.7612620434\n",
      "bestIteration = 975\n",
      "\n",
      "Shrink model to first 976 iterations.\n"
     ]
    }
   ],
   "source": [
    "# 2. Отскейленые DepTime и Distance"
   ]
  },
  {
   "cell_type": "code",
   "execution_count": 53,
   "metadata": {
    "pycharm": {
     "is_executing": false,
     "name": "#%%\n"
    }
   },
   "outputs": [
    {
     "data": {
      "text/html": [
       "<div>\n",
       "<style scoped>\n",
       "    .dataframe tbody tr th:only-of-type {\n",
       "        vertical-align: middle;\n",
       "    }\n",
       "\n",
       "    .dataframe tbody tr th {\n",
       "        vertical-align: top;\n",
       "    }\n",
       "\n",
       "    .dataframe thead th {\n",
       "        text-align: right;\n",
       "    }\n",
       "</style>\n",
       "<table border=\"1\" class=\"dataframe\">\n",
       "  <thead>\n",
       "    <tr style=\"text-align: right;\">\n",
       "      <th></th>\n",
       "      <th>Feature Id</th>\n",
       "      <th>Importances</th>\n",
       "    </tr>\n",
       "  </thead>\n",
       "  <tbody>\n",
       "    <tr>\n",
       "      <th>0</th>\n",
       "      <td>DepTime</td>\n",
       "      <td>20.245069</td>\n",
       "    </tr>\n",
       "    <tr>\n",
       "      <th>1</th>\n",
       "      <td>UniqueCarrier</td>\n",
       "      <td>11.787557</td>\n",
       "    </tr>\n",
       "    <tr>\n",
       "      <th>2</th>\n",
       "      <td>DepTimeLog</td>\n",
       "      <td>10.888502</td>\n",
       "    </tr>\n",
       "    <tr>\n",
       "      <th>3</th>\n",
       "      <td>Origin</td>\n",
       "      <td>10.359236</td>\n",
       "    </tr>\n",
       "    <tr>\n",
       "      <th>4</th>\n",
       "      <td>Dest</td>\n",
       "      <td>9.921822</td>\n",
       "    </tr>\n",
       "    <tr>\n",
       "      <th>5</th>\n",
       "      <td>Distance</td>\n",
       "      <td>8.918329</td>\n",
       "    </tr>\n",
       "    <tr>\n",
       "      <th>6</th>\n",
       "      <td>flight</td>\n",
       "      <td>7.832368</td>\n",
       "    </tr>\n",
       "    <tr>\n",
       "      <th>7</th>\n",
       "      <td>Month</td>\n",
       "      <td>7.466267</td>\n",
       "    </tr>\n",
       "    <tr>\n",
       "      <th>8</th>\n",
       "      <td>DayofMonth</td>\n",
       "      <td>7.064207</td>\n",
       "    </tr>\n",
       "    <tr>\n",
       "      <th>9</th>\n",
       "      <td>DayOfWeek</td>\n",
       "      <td>5.516644</td>\n",
       "    </tr>\n",
       "  </tbody>\n",
       "</table>\n",
       "</div>"
      ],
      "text/plain": [
       "      Feature Id  Importances\n",
       "0        DepTime    20.245069\n",
       "1  UniqueCarrier    11.787557\n",
       "2     DepTimeLog    10.888502\n",
       "3         Origin    10.359236\n",
       "4           Dest     9.921822\n",
       "5       Distance     8.918329\n",
       "6         flight     7.832368\n",
       "7          Month     7.466267\n",
       "8     DayofMonth     7.064207\n",
       "9      DayOfWeek     5.516644"
      ]
     },
     "execution_count": 53,
     "metadata": {},
     "output_type": "execute_result"
    }
   ],
   "source": [
    "# 3. Отскейленые DepTime, Distance, DepTimeLog\n",
    "\n",
    "ctb.get_feature_importance(prettified=True)"
   ]
  },
  {
   "cell_type": "code",
   "execution_count": 61,
   "metadata": {
    "pycharm": {
     "is_executing": false,
     "name": "#%%\n"
    }
   },
   "outputs": [
    {
     "data": {
      "text/html": [
       "<div>\n",
       "<style scoped>\n",
       "    .dataframe tbody tr th:only-of-type {\n",
       "        vertical-align: middle;\n",
       "    }\n",
       "\n",
       "    .dataframe tbody tr th {\n",
       "        vertical-align: top;\n",
       "    }\n",
       "\n",
       "    .dataframe thead th {\n",
       "        text-align: right;\n",
       "    }\n",
       "</style>\n",
       "<table border=\"1\" class=\"dataframe\">\n",
       "  <thead>\n",
       "    <tr style=\"text-align: right;\">\n",
       "      <th></th>\n",
       "      <th>Feature Id</th>\n",
       "      <th>Importances</th>\n",
       "    </tr>\n",
       "  </thead>\n",
       "  <tbody>\n",
       "    <tr>\n",
       "      <th>0</th>\n",
       "      <td>DepTime</td>\n",
       "      <td>29.590615</td>\n",
       "    </tr>\n",
       "    <tr>\n",
       "      <th>1</th>\n",
       "      <td>UniqueCarrier</td>\n",
       "      <td>12.272846</td>\n",
       "    </tr>\n",
       "    <tr>\n",
       "      <th>2</th>\n",
       "      <td>Origin</td>\n",
       "      <td>10.010156</td>\n",
       "    </tr>\n",
       "    <tr>\n",
       "      <th>3</th>\n",
       "      <td>Distance</td>\n",
       "      <td>9.495261</td>\n",
       "    </tr>\n",
       "    <tr>\n",
       "      <th>4</th>\n",
       "      <td>Dest</td>\n",
       "      <td>9.304766</td>\n",
       "    </tr>\n",
       "    <tr>\n",
       "      <th>5</th>\n",
       "      <td>flight</td>\n",
       "      <td>8.188251</td>\n",
       "    </tr>\n",
       "    <tr>\n",
       "      <th>6</th>\n",
       "      <td>Month</td>\n",
       "      <td>8.017140</td>\n",
       "    </tr>\n",
       "    <tr>\n",
       "      <th>7</th>\n",
       "      <td>DayofMonth</td>\n",
       "      <td>6.939387</td>\n",
       "    </tr>\n",
       "    <tr>\n",
       "      <th>8</th>\n",
       "      <td>DayOfWeek</td>\n",
       "      <td>6.181577</td>\n",
       "    </tr>\n",
       "  </tbody>\n",
       "</table>\n",
       "</div>"
      ],
      "text/plain": [
       "      Feature Id  Importances\n",
       "0        DepTime    29.590615\n",
       "1  UniqueCarrier    12.272846\n",
       "2         Origin    10.010156\n",
       "3       Distance     9.495261\n",
       "4           Dest     9.304766\n",
       "5         flight     8.188251\n",
       "6          Month     8.017140\n",
       "7     DayofMonth     6.939387\n",
       "8      DayOfWeek     6.181577"
      ]
     },
     "execution_count": 61,
     "metadata": {},
     "output_type": "execute_result"
    }
   ],
   "source": [
    "# 4. Отскейленые DepTime, Distance и дропнутый хвост ['DepTime'] >= 330"
   ]
  },
  {
   "cell_type": "code",
   "execution_count": 308,
   "metadata": {
    "pycharm": {
     "is_executing": false,
     "name": "#%%\n"
    }
   },
   "outputs": [
    {
     "data": {
      "text/html": [
       "<div>\n",
       "<style scoped>\n",
       "    .dataframe tbody tr th:only-of-type {\n",
       "        vertical-align: middle;\n",
       "    }\n",
       "\n",
       "    .dataframe tbody tr th {\n",
       "        vertical-align: top;\n",
       "    }\n",
       "\n",
       "    .dataframe thead th {\n",
       "        text-align: right;\n",
       "    }\n",
       "</style>\n",
       "<table border=\"1\" class=\"dataframe\">\n",
       "  <thead>\n",
       "    <tr style=\"text-align: right;\">\n",
       "      <th></th>\n",
       "      <th>Feature Id</th>\n",
       "      <th>Importances</th>\n",
       "    </tr>\n",
       "  </thead>\n",
       "  <tbody>\n",
       "    <tr>\n",
       "      <th>0</th>\n",
       "      <td>DepTime_cat</td>\n",
       "      <td>15.956945</td>\n",
       "    </tr>\n",
       "    <tr>\n",
       "      <th>1</th>\n",
       "      <td>DepTime</td>\n",
       "      <td>14.943196</td>\n",
       "    </tr>\n",
       "    <tr>\n",
       "      <th>2</th>\n",
       "      <td>UniqueCarrier</td>\n",
       "      <td>11.338192</td>\n",
       "    </tr>\n",
       "    <tr>\n",
       "      <th>3</th>\n",
       "      <td>Origin</td>\n",
       "      <td>10.596559</td>\n",
       "    </tr>\n",
       "    <tr>\n",
       "      <th>4</th>\n",
       "      <td>flight</td>\n",
       "      <td>9.676715</td>\n",
       "    </tr>\n",
       "    <tr>\n",
       "      <th>5</th>\n",
       "      <td>Dest</td>\n",
       "      <td>9.416725</td>\n",
       "    </tr>\n",
       "    <tr>\n",
       "      <th>6</th>\n",
       "      <td>Month</td>\n",
       "      <td>6.260126</td>\n",
       "    </tr>\n",
       "    <tr>\n",
       "      <th>7</th>\n",
       "      <td>Distance</td>\n",
       "      <td>6.200330</td>\n",
       "    </tr>\n",
       "    <tr>\n",
       "      <th>8</th>\n",
       "      <td>DayofMonth</td>\n",
       "      <td>6.079388</td>\n",
       "    </tr>\n",
       "    <tr>\n",
       "      <th>9</th>\n",
       "      <td>DayOfWeek</td>\n",
       "      <td>5.656700</td>\n",
       "    </tr>\n",
       "    <tr>\n",
       "      <th>10</th>\n",
       "      <td>distance_cat</td>\n",
       "      <td>3.875123</td>\n",
       "    </tr>\n",
       "  </tbody>\n",
       "</table>\n",
       "</div>"
      ],
      "text/plain": [
       "       Feature Id  Importances\n",
       "0     DepTime_cat    15.956945\n",
       "1         DepTime    14.943196\n",
       "2   UniqueCarrier    11.338192\n",
       "3          Origin    10.596559\n",
       "4          flight     9.676715\n",
       "5            Dest     9.416725\n",
       "6           Month     6.260126\n",
       "7        Distance     6.200330\n",
       "8      DayofMonth     6.079388\n",
       "9       DayOfWeek     5.656700\n",
       "10   distance_cat     3.875123"
      ]
     },
     "execution_count": 308,
     "metadata": {},
     "output_type": "execute_result"
    }
   ],
   "source": [
    "# 15. Отскейленые DepTime, Distance, DepTimeLog, DepTime_cat (категор.), distance_cat (категор.)\n",
    "\n",
    "\n",
    "ctb.get_feature_importance(prettified=True)"
   ]
  },
  {
   "cell_type": "code",
   "execution_count": 374,
   "metadata": {
    "pycharm": {
     "is_executing": false,
     "name": "#%%\n"
    }
   },
   "outputs": [
    {
     "data": {
      "text/html": [
       "<div>\n",
       "<style scoped>\n",
       "    .dataframe tbody tr th:only-of-type {\n",
       "        vertical-align: middle;\n",
       "    }\n",
       "\n",
       "    .dataframe tbody tr th {\n",
       "        vertical-align: top;\n",
       "    }\n",
       "\n",
       "    .dataframe thead th {\n",
       "        text-align: right;\n",
       "    }\n",
       "</style>\n",
       "<table border=\"1\" class=\"dataframe\">\n",
       "  <thead>\n",
       "    <tr style=\"text-align: right;\">\n",
       "      <th></th>\n",
       "      <th>Feature Id</th>\n",
       "      <th>Importances</th>\n",
       "    </tr>\n",
       "  </thead>\n",
       "  <tbody>\n",
       "    <tr>\n",
       "      <th>0</th>\n",
       "      <td>DepTime_cat</td>\n",
       "      <td>22.206985</td>\n",
       "    </tr>\n",
       "    <tr>\n",
       "      <th>1</th>\n",
       "      <td>Dep_minute</td>\n",
       "      <td>16.942413</td>\n",
       "    </tr>\n",
       "    <tr>\n",
       "      <th>2</th>\n",
       "      <td>flight</td>\n",
       "      <td>13.964117</td>\n",
       "    </tr>\n",
       "    <tr>\n",
       "      <th>3</th>\n",
       "      <td>UniqueCarrier</td>\n",
       "      <td>10.553029</td>\n",
       "    </tr>\n",
       "    <tr>\n",
       "      <th>4</th>\n",
       "      <td>DepTime</td>\n",
       "      <td>7.680481</td>\n",
       "    </tr>\n",
       "    <tr>\n",
       "      <th>5</th>\n",
       "      <td>Origin</td>\n",
       "      <td>7.023748</td>\n",
       "    </tr>\n",
       "    <tr>\n",
       "      <th>6</th>\n",
       "      <td>Dest</td>\n",
       "      <td>5.386369</td>\n",
       "    </tr>\n",
       "    <tr>\n",
       "      <th>7</th>\n",
       "      <td>Distance</td>\n",
       "      <td>4.425941</td>\n",
       "    </tr>\n",
       "    <tr>\n",
       "      <th>8</th>\n",
       "      <td>Month</td>\n",
       "      <td>3.982001</td>\n",
       "    </tr>\n",
       "    <tr>\n",
       "      <th>9</th>\n",
       "      <td>DayOfWeek</td>\n",
       "      <td>3.979191</td>\n",
       "    </tr>\n",
       "    <tr>\n",
       "      <th>10</th>\n",
       "      <td>DayofMonth</td>\n",
       "      <td>3.855725</td>\n",
       "    </tr>\n",
       "  </tbody>\n",
       "</table>\n",
       "</div>"
      ],
      "text/plain": [
       "       Feature Id  Importances\n",
       "0     DepTime_cat    22.206985\n",
       "1      Dep_minute    16.942413\n",
       "2          flight    13.964117\n",
       "3   UniqueCarrier    10.553029\n",
       "4         DepTime     7.680481\n",
       "5          Origin     7.023748\n",
       "6            Dest     5.386369\n",
       "7        Distance     4.425941\n",
       "8           Month     3.982001\n",
       "9       DayOfWeek     3.979191\n",
       "10     DayofMonth     3.855725"
      ]
     },
     "execution_count": 374,
     "metadata": {},
     "output_type": "execute_result"
    }
   ],
   "source": [
    "# 20. Отскейленые DepTime, Distance, 'Dep_minute'; DepTime_cat (категор.)\n",
    "\n",
    "ctb.get_feature_importance(prettified=True)"
   ]
  },
  {
   "cell_type": "code",
   "execution_count": 375,
   "metadata": {
    "pycharm": {
     "is_executing": false,
     "name": "#%%\n"
    }
   },
   "outputs": [
    {
     "name": "stdout",
     "output_type": "stream",
     "text": [
      "0:\ttest: 0.6808951\tbest: 0.6808951 (0)\ttotal: 1.2s\tremaining: 20m 1s\n",
      "200:\ttest: 0.7658020\tbest: 0.7658020 (200)\ttotal: 3m 11s\tremaining: 12m 42s\n",
      "400:\ttest: 0.7752498\tbest: 0.7752498 (400)\ttotal: 6m 4s\tremaining: 9m 4s\n",
      "600:\ttest: 0.7813799\tbest: 0.7813799 (600)\ttotal: 9m 19s\tremaining: 6m 11s\n",
      "800:\ttest: 0.7841923\tbest: 0.7841923 (800)\ttotal: 12m 29s\tremaining: 3m 6s\n",
      "999:\ttest: 0.7865618\tbest: 0.7865618 (999)\ttotal: 15m 35s\tremaining: 0us\n"
     ]
    }
   ],
   "source": [
    "params = {'loss_function':'Logloss',\n",
    "          'eval_metric':'AUC',\n",
    "          'verbose': 200,\n",
    "          'random_seed': 17\n",
    "         }\n",
    "all_train_data = Pool(data=train_df_fd,\n",
    "                      label=y_train,\n",
    "                      cat_features=categ_feat_idx\n",
    "                     )\n",
    "scores = cv(pool=all_train_data,\n",
    "            params=params, \n",
    "            fold_count=3,\n",
    "            seed=17, \n",
    "            shuffle=True,\n",
    "            stratified=True, # if True the folds are made by preserving the percentage of samples for each class\n",
    "            plot=False\n",
    "           )"
   ]
  },
  {
   "cell_type": "code",
   "execution_count": 8,
   "metadata": {
    "pycharm": {
     "is_executing": false,
     "name": "#%%\n"
    }
   },
   "outputs": [
    {
     "name": "stdout",
     "output_type": "stream",
     "text": [
      "Learning rate set to 0.061677\n",
      "0:\ttotal: 217ms\tremaining: 3m 36s\n",
      "200:\ttotal: 34.1s\tremaining: 2m 15s\n",
      "400:\ttotal: 1m 11s\tremaining: 1m 47s\n",
      "600:\ttotal: 1m 52s\tremaining: 1m 14s\n",
      "800:\ttotal: 2m 33s\tremaining: 38.1s\n",
      "999:\ttotal: 3m 16s\tremaining: 0us\n"
     ]
    }
   ],
   "source": [
    "# Предскажем метки на тестовой выборке\n",
    "\n",
    "ctb.fit(train_df_fd, y_train,\n",
    "        cat_features= categ_feat_idx,\n",
    "        early_stopping_rounds = 200,\n",
    "        verbose = 200\n",
    "       );\n"
   ]
  },
  {
   "cell_type": "code",
   "execution_count": 9,
   "metadata": {
    "pycharm": {
     "is_executing": false,
     "name": "#%%\n"
    }
   },
   "outputs": [],
   "source": [
    "ctb_test_pred = ctb.predict_proba(test_df_fd)[:, 1]\n",
    "\n",
    "with warnings.catch_warnings():\n",
    "    warnings.simplefilter(\"ignore\")\n",
    "    \n",
    "    sample_sub = pd.read_csv('sample_submission.csv', \n",
    "                             index_col='id')\n",
    "    sample_sub['dep_delayed_15min'] = ctb_test_pred\n",
    "    sample_sub.to_csv('ctb_pred.csv')\n"
   ]
  },
  {
   "cell_type": "code",
   "execution_count": 272,
   "metadata": {
    "pycharm": {
     "is_executing": false,
     "name": "#%%\n"
    }
   },
   "outputs": [
    {
     "data": {
      "text/plain": [
       "array([0, 1, 2, 4, 5, 6, 8, 9], dtype=int64)"
      ]
     },
     "execution_count": 272,
     "metadata": {},
     "output_type": "execute_result"
    }
   ],
   "source": []
  }
 ],
 "metadata": {
  "kernelspec": {
   "display_name": "Python 3",
   "language": "python",
   "name": "python3"
  },
  "language_info": {
   "codemirror_mode": {
    "name": "ipython",
    "version": 3
   },
   "file_extension": ".py",
   "mimetype": "text/x-python",
   "name": "python",
   "nbconvert_exporter": "python",
   "pygments_lexer": "ipython3",
   "version": "3.7.3"
  },
  "pycharm": {
   "stem_cell": {
    "cell_type": "raw",
    "metadata": {
     "collapsed": false
    },
    "source": []
   }
  }
 },
 "nbformat": 4,
 "nbformat_minor": 2
}
