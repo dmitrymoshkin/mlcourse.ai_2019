{
 "cells": [
  {
   "cell_type": "code",
   "execution_count": 29,
   "metadata": {
    "pycharm": {
     "is_executing": false
    }
   },
   "outputs": [
    {
     "data": {
      "text/html": "        <script type=\"text/javascript\">\n        window.PlotlyConfig = {MathJaxConfig: 'local'};\n        if (window.MathJax) {MathJax.Hub.Config({SVG: {font: \"STIX-Web\"}});}\n        if (typeof require !== 'undefined') {\n        require.undef(\"plotly\");\n        requirejs.config({\n            paths: {\n                'plotly': ['https://cdn.plot.ly/plotly-latest.min']\n            }\n        });\n        require(['plotly'], function(Plotly) {\n            window._Plotly = Plotly;\n        });\n        }\n        </script>\n        "
     },
     "metadata": {},
     "output_type": "display_data"
    }
   ],
   "source": [
    "import warnings\n",
    "import numpy as np\n",
    "import pandas as pd\n",
    "import seaborn as sns\n",
    "import plotly_express as px\n",
    "from pathlib import Path\n",
    "from sklearn.model_selection import train_test_split\n",
    "from sklearn.linear_model import SGDClassifier\n",
    "from sklearn.metrics import roc_auc_score\n",
    "from catboost import CatBoostClassifier\n",
    "from catboost import cv\n",
    "from catboost import Pool\n",
    "from matplotlib import pyplot as plt\n",
    "from sklearn.preprocessing import scale\n",
    "\n",
    "\n",
    "from plotly.offline import init_notebook_mode, iplot\n",
    "init_notebook_mode(connected=True)\n",
    "import plotly.graph_objs as go\n",
    "\n",
    "\n",
    "%matplotlib inline"
   ]
  },
  {
   "cell_type": "markdown",
   "source": [
    "HUI_V_SRAKU\n",
    "\n",
    "Model has been built from the scratch\n",
    "\n",
    "---\n",
    "What have NOT been made:\n",
    "- DepTime_cat  24 категорий, удалены хвосты\n",
    "- DepTime_cat - 24 категорий, удалены хвосты\n",
    "- Флаги на месяцах\n",
    "- Dep_minute\n",
    "- DepTimeLog\n",
    "- DepTimepairs - как категориальный фич\n",
    "- DepTimesqrt\n",
    "---"
   ],
   "metadata": {
    "collapsed": false,
    "pycharm": {
     "name": "#%% md\n",
     "is_executing": false
    }
   }
  },
  {
   "cell_type": "markdown",
   "source": [
    "## Ход тестирования\n",
    "\n",
    "\n",
    "1. Стандартный baseline: 0.7612620434\n",
    "2. Отскейленые DepTime и Distance: 0.7612620434\n",
    "3. Отскейленые DepTime, Distance, DepTimeLog: 0.7605898869\n",
    "4. Отскейленые DepTime, Distance и дропнутый хвост ['DepTime'] >= 330: 0.7655446758\n",
    "5. Отскейленые DepTime, Distance и дропнутый хвост ['DepTime'] >= 500: 0.7612620434\n",
    "6. Отскейленые DepTime, Distance и дропнутый хвост ['DepTime'] >= 450: 0.7605665271\n",
    "7. Отскейленые DepTime, Distance и дропнутый хвост ['DepTime'] >= 450 & ['DepTime'] <= 80: 0.7563055661\n",
    "8. Отскейленые DepTime, Distance и дропнутый хвост ['DepTime'] >= 350: 0.7603290604\n",
    "8. Отскейленые DepTime, Distance и дропнутый хвост ['DepTime'] >= 300: 0.7615391716\n",
    "\n",
    "***Дропнутый хвост ['DepTime'] >= 330 с лучшим рез. на отлженной выборке приводит к падению на 0.0925 на kaggle по\n",
    "сравнению со стандатным baseline, не говоря уже о других порогах (500, 459, 350, 300)***\n",
    "9. Отскейленые DepTime, Distance, DepTimesq: 0.7605898869\n",
    "10. Отскейленые DepTime, Distance, DepTimesqrt: 0.7605898869\n",
    "11. DepTime, Distance, DepTimesqrt: 0.7605898869\n",
    "12. Отскейленые DepTime, Distance, DepTime_cat (категориальный): 0.7769286607; CV_3_folds: 0.7763139 (999)\n",
    "13. Отскейленые DepTime, Distance, DepTime_cat (категориальный), дропнутые хвосты DepTime_cat: 0.7840374983. На kaggle\n",
    "ПАДЕНИЕ на 0.0728\n",
    "14. Отскейленые DepTime, Distance, DepTimeLog, DepTime_cat (категориальный): 0.7769629497. На kaggle, по\n",
    "сравнению с п. 12, ПАДЕНИЕ на 0.00048‬\n",
    "15. Отскейленые DepTime, Distance, DepTime_cat (категор.), distance_cat (категор.): 0.7757000176; kaggle: \n",
    "16. Отскейленые DepTime, Distance, distance_cat DepTime_cat (категор.): 0.7741272155\n",
    "17. Отскейленые DepTime, Distance, DepTime_cat (категор.), distance_cat (категор.), дропнутые хвосты distance_cat: \n",
    "0.778180006; CV_3_folds:\n",
    "\n",
    "\n",
    "\n"
   ],
   "metadata": {
    "collapsed": false,
    "pycharm": {
     "name": "#%% md\n"
    }
   }
  },
  {
   "cell_type": "code",
   "execution_count": 330,
   "metadata": {
    "pycharm": {
     "is_executing": false
    }
   },
   "outputs": [],
   "source": [
    "train_df_fd = pd.read_csv('flight_delays_train.csv')\n",
    "test_df_fd = pd.read_csv('flight_delays_test.csv')\n",
    "train_df_fd['flight'] = train_df_fd['Origin'] + '-->' + train_df_fd['Dest']\n",
    "test_df_fd['flight'] = test_df_fd['Origin'] + '-->' + test_df_fd['Dest']\n",
    "train_df_fd['dep_delayed_15min'] = train_df_fd['dep_delayed_15min'].map({'Y' : 1, 'N' : 0})\n",
    "categ_feat_idx = np.where(train_df_fd.drop('dep_delayed_15min', axis=1).dtypes == 'object')[0]\n",
    "\n",
    "train_df_fd.Month.replace(['c-%d' % i for i in range(1, 13)], list(range(1, 13)), inplace=True)\n",
    "test_df_fd.Month.replace(['c-%d' % i for i in range(1, 13)], list(range(1, 13)), inplace=True)\n",
    "train_df_fd.DayofMonth.replace(['c-%d' % i for i in range(1, 32)], list(range(1, 32)), inplace=True)\n",
    "test_df_fd.DayofMonth.replace(['c-%d' % i for i in range(1, 32)], list(range(1, 32)), inplace=True)\n",
    "train_df_fd.DayOfWeek.replace(['c-%d' % i for i in range(1, 8)], list(range(1, 8)), inplace=True)\n",
    "test_df_fd.DayOfWeek.replace(['c-%d' % i for i in range(1, 8)], list(range(1, 8)), inplace=True)"
   ]
  },
  {
   "cell_type": "code",
   "execution_count": 323,
   "outputs": [],
   "source": [
    "# Дропнем хвосты\n",
    "\n",
    "# train_df_fd  = train_df_fd[train_df_fd['DepTime'] >= 330]"
   ],
   "metadata": {
    "collapsed": false,
    "pycharm": {
     "name": "#%%\n",
     "is_executing": false
    }
   }
  },
  {
   "cell_type": "code",
   "execution_count": 331,
   "metadata": {
    "pycharm": {
     "is_executing": false
    }
   },
   "outputs": [],
   "source": [
    "# Дистанция и время отправления\n",
    "train_df_fd['DepTime_cat'] = np.floor(train_df_fd.DepTime / 100).astype('int')\n",
    "test_df_fd['DepTime_cat'] = np.floor(test_df_fd.DepTime / 100).astype('int')\n",
    "# train_df_fd = train_df_fd[(train_df_fd['DepTime_cat'] > 4) & (train_df_fd['DepTime_cat'] < 24)]\n",
    "train_df_fd['distance_cat'] = np.floor(train_df_fd.Distance / 200).astype('int')\n",
    "test_df_fd['distance_cat'] = np.floor(test_df_fd.Distance / 200).astype('int')\n",
    "train_df_fd = train_df_fd[train_df_fd['distance_cat'] < 15]\n",
    "\n",
    "# Дни и месяцы\n",
    "\n",
    "# train_df_fd['Months [6,7,12]'] = train_df_fd['Month'].apply(lambda x: 1 if x >= 6 \\\n",
    "#                                                          and x <= 7 or x == 12 else 0)\n",
    "# test_df_fd['Months [6,7,12]'] = test_df_fd['Month'].apply(lambda x: 1 if x >= 6 \\\n",
    "#                                                        and x <= 7  or x == 12 else 0)\n",
    "# train_df_fd['Months [2,3]'] = train_df_fd['Month'].apply(lambda x: 1 if x >= 2 \\\n",
    "#                                                          and x <= 3 else 0)\n",
    "# test_df_fd['Months [2,3]'] = test_df_fd['Month'].apply(lambda x: 1 if x >= 2 \\\n",
    "#                                                        and x <= 3 else 0)\n",
    "\n",
    "# Еще признаки\n",
    "# train_df_fd['Dep_minute'] =  train_df_fd['DepTime']%100\n",
    "# test_df_fd['Dep_minute'] =  test_df_fd['DepTime']%100\n",
    "# train_df_fd['DepTimeLog'] = train_df_fd['DepTime'].apply(lambda x: np.log(x))\n",
    "# test_df_fd['DepTimeLog'] = test_df_fd['DepTime'].apply(lambda x: np.log(x))\n",
    "# train_df_fd['DepTimepairs'] = train_df_fd['DepTime'] * np.append(train_df_fd['DepTime'][1:], 1)\n",
    "# test_df_fd['DepTimepairs'] = test_df_fd['DepTime'] * np.append(test_df_fd['DepTime'][1:], 1)\n",
    "# train_df_fd['DepTimesqrt'] = train_df_fd['DepTime'].apply(lambda x: np.sqrt(x))\n",
    "# test_df_fd['DepTimesqrt'] = test_df_fd['DepTime'].apply(lambda x: np.sqrt(x))\n",
    "\n",
    "# train_df_fd['DepTimesq'] = train_df_fd['DepTime'].apply(lambda x: x**2)\n",
    "# test_df_fd['DepTimesq'] = test_df_fd['DepTime'].apply(lambda x: x**2)"
   ]
  },
  {
   "cell_type": "code",
   "execution_count": 332,
   "outputs": [],
   "source": [
    "# Скейлинг вещественных фичей\n",
    "\n",
    "train_df_fd['DepTime'] = scale(train_df_fd['DepTime'])\n",
    "train_df_fd['Distance'] = scale(train_df_fd['Distance'])\n",
    "test_df_fd['Distance'] = scale(test_df_fd['Distance'])\n",
    "test_df_fd['DepTime'] = scale(test_df_fd['DepTime'])\n",
    "\n",
    "# train_df_fd['distance_cat'] = scale(train_df_fd['distance_cat'])\n",
    "# test_df_fd['distance_cat'] = scale(test_df_fd['distance_cat'])\n",
    "# train_df_fd['DepTimesqrt'] = scale(train_df_fd['DepTimesqrt'])\n",
    "# test_df_fd['DepTimesqrt'] = scale(test_df_fd['DepTimesqrt'])\n",
    "# train_df_fd['DepTimesq'] = scale(train_df_fd['DepTimesq'])\n",
    "# test_df_fd['DepTimesq'] = scale(test_df_fd['DepTimesq'])\n",
    "# train_df_fd['DepTimeLog'] = scale(train_df_fd['DepTimeLog'])\n",
    "# test_df_fd['DepTimeLog']  = scale(test_df_fd['DepTimeLog'])"
   ],
   "metadata": {
    "collapsed": false,
    "pycharm": {
     "name": "#%%\n",
     "is_executing": false
    }
   }
  },
  {
   "cell_type": "code",
   "execution_count": 333,
   "outputs": [],
   "source": [
    "y_train = train_df_fd['dep_delayed_15min']\n",
    "train_df_fd = train_df_fd.drop('dep_delayed_15min', axis=1)"
   ],
   "metadata": {
    "collapsed": false,
    "pycharm": {
     "name": "#%%\n",
     "is_executing": false
    }
   }
  },
  {
   "cell_type": "code",
   "execution_count": 334,
   "metadata": {
    "pycharm": {
     "is_executing": false
    }
   },
   "outputs": [
    {
     "data": {
      "text/plain": "(11, Index(['Month', 'DayofMonth', 'DayOfWeek', 'DepTime', 'UniqueCarrier',\n        'Origin', 'Dest', 'Distance', 'flight', 'DepTime_cat', 'distance_cat'],\n       dtype='object'), array([ 0,  1,  2,  4,  5,  6,  8,  9, 10], dtype=int64))"
     },
     "metadata": {},
     "output_type": "execute_result",
     "execution_count": 334
    }
   ],
   "source": [
    "categ_feat_idx = np.append(categ_feat_idx, [9, 10]) \n",
    "\n",
    "X_train_part, X_valid, y_train_part, y_valid = train_test_split(train_df_fd, y_train, \n",
    "                                                                test_size=0.3, \n",
    "                                                                random_state=17)\n",
    "len(X_train_part.columns), X_train_part.columns, categ_feat_idx"
   ]
  },
  {
   "cell_type": "code",
   "execution_count": 335,
   "outputs": [
    {
     "name": "stdout",
     "text": [
      "Learning rate set to 0.121872\n",
      "0:\ttest: 0.6789670\tbest: 0.6789670 (0)\ttotal: 201ms\tremaining: 3m 20s\n",
      "200:\ttest: 0.7734878\tbest: 0.7737394 (198)\ttotal: 31.9s\tremaining: 2m 6s\n",
      "400:\ttest: 0.7757103\tbest: 0.7759939 (372)\ttotal: 1m 3s\tremaining: 1m 34s\n",
      "600:\ttest: 0.7769127\tbest: 0.7769137 (585)\ttotal: 1m 34s\tremaining: 1m 2s\n",
      "800:\ttest: 0.7777158\tbest: 0.7778238 (776)\ttotal: 2m 7s\tremaining: 31.7s\n",
      "999:\ttest: 0.7778387\tbest: 0.7781800 (884)\ttotal: 2m 42s\tremaining: 0us\n\nbestTest = 0.778180006\nbestIteration = 884\n\nShrink model to first 885 iterations.\n"
     ],
     "output_type": "stream"
    }
   ],
   "source": [
    "# %%time\n",
    "ctb = CatBoostClassifier(random_seed=17, eval_metric = 'AUC')\n",
    "ctb.fit(X_train_part, y_train_part,\n",
    "        eval_set=(X_valid, y_valid),\n",
    "        cat_features=categ_feat_idx,\n",
    "        early_stopping_rounds = 500,\n",
    "        verbose = 200,\n",
    "        use_best_model=True,\n",
    "        plot=False,\n",
    "    \n",
    "       );"
   ],
   "metadata": {
    "collapsed": false,
    "pycharm": {
     "name": "#%%\n",
     "is_executing": false
    }
   }
  },
  {
   "cell_type": "code",
   "execution_count": 34,
   "outputs": [
    {
     "name": "stdout",
     "text": [
      "Learning rate set to 0.121895\n0:\ttest: 0.6604672\tbest: 0.6604672 (0)\ttotal: 174ms\tremaining: 2m 53s\n",
      "200:\ttest: 0.7504506\tbest: 0.7504506 (200)\ttotal: 25.1s\tremaining: 1m 39s\n",
      "400:\ttest: 0.7555314\tbest: 0.7555350 (397)\ttotal: 50.7s\tremaining: 1m 15s\n",
      "600:\ttest: 0.7589069\tbest: 0.7589069 (600)\ttotal: 1m 16s\tremaining: 51s\n",
      "800:\ttest: 0.7602943\tbest: 0.7603248 (799)\ttotal: 1m 43s\tremaining: 25.7s\n",
      "999:\ttest: 0.7611861\tbest: 0.7612620 (975)\ttotal: 2m 12s\tremaining: 0us\n\nbestTest = 0.7612620434\nbestIteration = 975\n\nShrink model to first 976 iterations.\n"
     ],
     "output_type": "stream"
    }
   ],
   "source": [
    "# 1. Стандартный baseline"
   ],
   "metadata": {
    "collapsed": false,
    "pycharm": {
     "name": "#%%\n",
     "is_executing": false
    }
   }
  },
  {
   "cell_type": "code",
   "execution_count": 44,
   "metadata": {
    "pycharm": {
     "is_executing": false
    }
   },
   "outputs": [
    {
     "name": "stdout",
     "text": [
      "Learning rate set to 0.121895\n0:\ttest: 0.6604672\tbest: 0.6604672 (0)\ttotal: 173ms\tremaining: 2m 52s\n",
      "200:\ttest: 0.7504506\tbest: 0.7504506 (200)\ttotal: 26.6s\tremaining: 1m 45s\n",
      "400:\ttest: 0.7555314\tbest: 0.7555350 (397)\ttotal: 52.6s\tremaining: 1m 18s\n",
      "600:\ttest: 0.7589069\tbest: 0.7589069 (600)\ttotal: 1m 18s\tremaining: 52.3s\n",
      "800:\ttest: 0.7602943\tbest: 0.7603248 (799)\ttotal: 1m 45s\tremaining: 26.2s\n",
      "999:\ttest: 0.7611861\tbest: 0.7612620 (975)\ttotal: 2m 16s\tremaining: 0us\n\nbestTest = 0.7612620434\nbestIteration = 975\n\nShrink model to first 976 iterations.\n"
     ],
     "output_type": "stream"
    }
   ],
   "source": [
    "# 2. Отскейленые DepTime и Distance"
   ]
  },
  {
   "cell_type": "code",
   "execution_count": 53,
   "outputs": [
    {
     "data": {
      "text/plain": "      Feature Id  Importances\n0        DepTime    20.245069\n1  UniqueCarrier    11.787557\n2     DepTimeLog    10.888502\n3         Origin    10.359236\n4           Dest     9.921822\n5       Distance     8.918329\n6         flight     7.832368\n7          Month     7.466267\n8     DayofMonth     7.064207\n9      DayOfWeek     5.516644",
      "text/html": "<div>\n<style scoped>\n    .dataframe tbody tr th:only-of-type {\n        vertical-align: middle;\n    }\n\n    .dataframe tbody tr th {\n        vertical-align: top;\n    }\n\n    .dataframe thead th {\n        text-align: right;\n    }\n</style>\n<table border=\"1\" class=\"dataframe\">\n  <thead>\n    <tr style=\"text-align: right;\">\n      <th></th>\n      <th>Feature Id</th>\n      <th>Importances</th>\n    </tr>\n  </thead>\n  <tbody>\n    <tr>\n      <th>0</th>\n      <td>DepTime</td>\n      <td>20.245069</td>\n    </tr>\n    <tr>\n      <th>1</th>\n      <td>UniqueCarrier</td>\n      <td>11.787557</td>\n    </tr>\n    <tr>\n      <th>2</th>\n      <td>DepTimeLog</td>\n      <td>10.888502</td>\n    </tr>\n    <tr>\n      <th>3</th>\n      <td>Origin</td>\n      <td>10.359236</td>\n    </tr>\n    <tr>\n      <th>4</th>\n      <td>Dest</td>\n      <td>9.921822</td>\n    </tr>\n    <tr>\n      <th>5</th>\n      <td>Distance</td>\n      <td>8.918329</td>\n    </tr>\n    <tr>\n      <th>6</th>\n      <td>flight</td>\n      <td>7.832368</td>\n    </tr>\n    <tr>\n      <th>7</th>\n      <td>Month</td>\n      <td>7.466267</td>\n    </tr>\n    <tr>\n      <th>8</th>\n      <td>DayofMonth</td>\n      <td>7.064207</td>\n    </tr>\n    <tr>\n      <th>9</th>\n      <td>DayOfWeek</td>\n      <td>5.516644</td>\n    </tr>\n  </tbody>\n</table>\n</div>"
     },
     "metadata": {},
     "output_type": "execute_result",
     "execution_count": 53
    }
   ],
   "source": [
    "# 3. Отскейленые DepTime, Distance, DepTimeLog\n",
    "\n",
    "ctb.get_feature_importance(prettified=True)"
   ],
   "metadata": {
    "collapsed": false,
    "pycharm": {
     "name": "#%%\n",
     "is_executing": false
    }
   }
  },
  {
   "cell_type": "code",
   "execution_count": 61,
   "outputs": [
    {
     "data": {
      "text/plain": "      Feature Id  Importances\n0        DepTime    29.590615\n1  UniqueCarrier    12.272846\n2         Origin    10.010156\n3       Distance     9.495261\n4           Dest     9.304766\n5         flight     8.188251\n6          Month     8.017140\n7     DayofMonth     6.939387\n8      DayOfWeek     6.181577",
      "text/html": "<div>\n<style scoped>\n    .dataframe tbody tr th:only-of-type {\n        vertical-align: middle;\n    }\n\n    .dataframe tbody tr th {\n        vertical-align: top;\n    }\n\n    .dataframe thead th {\n        text-align: right;\n    }\n</style>\n<table border=\"1\" class=\"dataframe\">\n  <thead>\n    <tr style=\"text-align: right;\">\n      <th></th>\n      <th>Feature Id</th>\n      <th>Importances</th>\n    </tr>\n  </thead>\n  <tbody>\n    <tr>\n      <th>0</th>\n      <td>DepTime</td>\n      <td>29.590615</td>\n    </tr>\n    <tr>\n      <th>1</th>\n      <td>UniqueCarrier</td>\n      <td>12.272846</td>\n    </tr>\n    <tr>\n      <th>2</th>\n      <td>Origin</td>\n      <td>10.010156</td>\n    </tr>\n    <tr>\n      <th>3</th>\n      <td>Distance</td>\n      <td>9.495261</td>\n    </tr>\n    <tr>\n      <th>4</th>\n      <td>Dest</td>\n      <td>9.304766</td>\n    </tr>\n    <tr>\n      <th>5</th>\n      <td>flight</td>\n      <td>8.188251</td>\n    </tr>\n    <tr>\n      <th>6</th>\n      <td>Month</td>\n      <td>8.017140</td>\n    </tr>\n    <tr>\n      <th>7</th>\n      <td>DayofMonth</td>\n      <td>6.939387</td>\n    </tr>\n    <tr>\n      <th>8</th>\n      <td>DayOfWeek</td>\n      <td>6.181577</td>\n    </tr>\n  </tbody>\n</table>\n</div>"
     },
     "metadata": {},
     "output_type": "execute_result",
     "execution_count": 61
    }
   ],
   "source": [
    "# 4. Отскейленые DepTime, Distance и дропнутый хвост ['DepTime'] >= 330"
   ],
   "metadata": {
    "collapsed": false,
    "pycharm": {
     "name": "#%%\n",
     "is_executing": false
    }
   }
  },
  {
   "cell_type": "code",
   "execution_count": 308,
   "outputs": [
    {
     "data": {
      "text/plain": "       Feature Id  Importances\n0     DepTime_cat    15.956945\n1         DepTime    14.943196\n2   UniqueCarrier    11.338192\n3          Origin    10.596559\n4          flight     9.676715\n5            Dest     9.416725\n6           Month     6.260126\n7        Distance     6.200330\n8      DayofMonth     6.079388\n9       DayOfWeek     5.656700\n10   distance_cat     3.875123",
      "text/html": "<div>\n<style scoped>\n    .dataframe tbody tr th:only-of-type {\n        vertical-align: middle;\n    }\n\n    .dataframe tbody tr th {\n        vertical-align: top;\n    }\n\n    .dataframe thead th {\n        text-align: right;\n    }\n</style>\n<table border=\"1\" class=\"dataframe\">\n  <thead>\n    <tr style=\"text-align: right;\">\n      <th></th>\n      <th>Feature Id</th>\n      <th>Importances</th>\n    </tr>\n  </thead>\n  <tbody>\n    <tr>\n      <th>0</th>\n      <td>DepTime_cat</td>\n      <td>15.956945</td>\n    </tr>\n    <tr>\n      <th>1</th>\n      <td>DepTime</td>\n      <td>14.943196</td>\n    </tr>\n    <tr>\n      <th>2</th>\n      <td>UniqueCarrier</td>\n      <td>11.338192</td>\n    </tr>\n    <tr>\n      <th>3</th>\n      <td>Origin</td>\n      <td>10.596559</td>\n    </tr>\n    <tr>\n      <th>4</th>\n      <td>flight</td>\n      <td>9.676715</td>\n    </tr>\n    <tr>\n      <th>5</th>\n      <td>Dest</td>\n      <td>9.416725</td>\n    </tr>\n    <tr>\n      <th>6</th>\n      <td>Month</td>\n      <td>6.260126</td>\n    </tr>\n    <tr>\n      <th>7</th>\n      <td>Distance</td>\n      <td>6.200330</td>\n    </tr>\n    <tr>\n      <th>8</th>\n      <td>DayofMonth</td>\n      <td>6.079388</td>\n    </tr>\n    <tr>\n      <th>9</th>\n      <td>DayOfWeek</td>\n      <td>5.656700</td>\n    </tr>\n    <tr>\n      <th>10</th>\n      <td>distance_cat</td>\n      <td>3.875123</td>\n    </tr>\n  </tbody>\n</table>\n</div>"
     },
     "metadata": {},
     "output_type": "execute_result",
     "execution_count": 308
    }
   ],
   "source": [
    "# 15. Отскейленые DepTime, Distance, DepTimeLog, DepTime_cat (категор.), distance_cat (категор.)\n",
    "\n",
    "\n",
    "ctb.get_feature_importance(prettified=True)"
   ],
   "metadata": {
    "collapsed": false,
    "pycharm": {
     "name": "#%%\n",
     "is_executing": false
    }
   }
  },
  {
   "cell_type": "code",
   "execution_count": null,
   "outputs": [
    {
     "name": "stdout",
     "text": [
      "0:\ttest: 0.6775327\tbest: 0.6775327 (0)\ttotal: 975ms\tremaining: 16m 14s\n"
     ],
     "output_type": "stream"
    }
   ],
   "source": [
    "params = {'loss_function':'Logloss',\n",
    "          'eval_metric':'AUC',\n",
    "          'verbose': 200,\n",
    "          'random_seed': 17\n",
    "         }\n",
    "all_train_data = Pool(data=train_df_fd,\n",
    "                      label=y_train,\n",
    "                      cat_features=categ_feat_idx\n",
    "                     )\n",
    "scores = cv(pool=all_train_data,\n",
    "            params=params, \n",
    "            fold_count=3,\n",
    "            seed=17, \n",
    "            shuffle=True,\n",
    "            stratified=True, # if True the folds are made by preserving the percentage of samples for each class\n",
    "            plot=False\n",
    "           )"
   ],
   "metadata": {
    "collapsed": false,
    "pycharm": {
     "name": "#%%\n",
     "is_executing": true
    }
   }
  },
  {
   "cell_type": "code",
   "execution_count": 328,
   "outputs": [
    {
     "name": "stdout",
     "text": [
      "Learning rate set to 0.061677\n",
      "0:\ttotal: 250ms\tremaining: 4m 9s\n",
      "200:\ttotal: 43.8s\tremaining: 2m 53s\n",
      "400:\ttotal: 1m 26s\tremaining: 2m 9s\n",
      "600:\ttotal: 2m 7s\tremaining: 1m 24s\n",
      "800:\ttotal: 2m 53s\tremaining: 43s\n",
      "999:\ttotal: 3m 40s\tremaining: 0us\n"
     ],
     "output_type": "stream"
    }
   ],
   "source": [
    "# Предскажем метки на тестовой выборке\n",
    "\n",
    "ctb.fit(train_df_fd, y_train,\n",
    "        cat_features= categ_feat_idx,\n",
    "        early_stopping_rounds = 200,\n",
    "        verbose = 200\n",
    "       );\n"
   ],
   "metadata": {
    "collapsed": false,
    "pycharm": {
     "name": "#%%\n",
     "is_executing": false
    }
   }
  },
  {
   "cell_type": "code",
   "execution_count": 329,
   "outputs": [],
   "source": [
    "ctb_test_pred = ctb.predict_proba(test_df_fd)[:, 1]\n",
    "\n",
    "with warnings.catch_warnings():\n",
    "    warnings.simplefilter(\"ignore\")\n",
    "    \n",
    "    sample_sub = pd.read_csv('sample_submission.csv', \n",
    "                             index_col='id')\n",
    "    sample_sub['dep_delayed_15min'] = ctb_test_pred\n",
    "    sample_sub.to_csv('ctb_pred.csv')\n"
   ],
   "metadata": {
    "collapsed": false,
    "pycharm": {
     "name": "#%%\n",
     "is_executing": false
    }
   }
  },
  {
   "cell_type": "code",
   "execution_count": 272,
   "outputs": [
    {
     "data": {
      "text/plain": "array([0, 1, 2, 4, 5, 6, 8, 9], dtype=int64)"
     },
     "metadata": {},
     "output_type": "execute_result",
     "execution_count": 272
    }
   ],
   "source": [],
   "metadata": {
    "collapsed": false,
    "pycharm": {
     "name": "#%%\n",
     "is_executing": false
    }
   }
  }
 ],
 "metadata": {
  "kernelspec": {
   "display_name": "Python 3",
   "language": "python",
   "name": "python3"
  },
  "language_info": {
   "codemirror_mode": {
    "name": "ipython",
    "version": 3
   },
   "file_extension": ".py",
   "mimetype": "text/x-python",
   "name": "python",
   "nbconvert_exporter": "python",
   "pygments_lexer": "ipython3",
   "version": "3.7.3"
  },
  "pycharm": {
   "stem_cell": {
    "cell_type": "raw",
    "source": [],
    "metadata": {
     "collapsed": false
    }
   }
  }
 },
 "nbformat": 4,
 "nbformat_minor": 2
}