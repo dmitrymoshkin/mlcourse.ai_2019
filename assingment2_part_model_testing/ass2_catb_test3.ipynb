{
 "cells": [
  {
   "cell_type": "code",
   "execution_count": 1,
   "metadata": {
    "pycharm": {
     "is_executing": false
    }
   },
   "outputs": [
    {
     "data": {
      "text/html": "        <script type=\"text/javascript\">\n        window.PlotlyConfig = {MathJaxConfig: 'local'};\n        if (window.MathJax) {MathJax.Hub.Config({SVG: {font: \"STIX-Web\"}});}\n        if (typeof require !== 'undefined') {\n        require.undef(\"plotly\");\n        requirejs.config({\n            paths: {\n                'plotly': ['https://cdn.plot.ly/plotly-latest.min']\n            }\n        });\n        require(['plotly'], function(Plotly) {\n            window._Plotly = Plotly;\n        });\n        }\n        </script>\n        "
     },
     "metadata": {},
     "output_type": "display_data"
    }
   ],
   "source": [
    "import warnings\n",
    "import numpy as np\n",
    "import pandas as pd\n",
    "import seaborn as sns\n",
    "import plotly_express as px\n",
    "from pathlib import Path\n",
    "from sklearn.model_selection import train_test_split\n",
    "from sklearn.linear_model import SGDClassifier\n",
    "from sklearn.metrics import roc_auc_score\n",
    "from catboost import CatBoostClassifier\n",
    "from catboost import cv\n",
    "from catboost import Pool\n",
    "from matplotlib import pyplot as plt\n",
    "from sklearn.preprocessing import scale\n",
    "\n",
    "\n",
    "from plotly.offline import init_notebook_mode, iplot\n",
    "init_notebook_mode(connected=True)\n",
    "import plotly.graph_objs as go\n",
    "\n",
    "\n",
    "%matplotlib inline"
   ]
  },
  {
   "cell_type": "markdown",
   "source": [
    "HUI_V_SRAKU bestTest = 0.8114043093\n",
    "\n",
    "- DepTime_cat  24 категорий, удалены хвосты\n",
    "- DepTime_cat - 24 категорий, удалены хвосты\n",
    "- Флаги на месяцах\n",
    "- Dep_minute\n",
    "- DepTimeLog\n",
    "- DepTimepairs - как категориальный фич\n",
    "- DepTimesqrt\n",
    "---\n",
    "dropped samples DepTime < 550"
   ],
   "metadata": {
    "collapsed": false,
    "pycharm": {
     "name": "#%% md\n",
     "is_executing": false
    }
   }
  },
  {
   "cell_type": "code",
   "execution_count": 17,
   "metadata": {
    "pycharm": {
     "is_executing": false
    }
   },
   "outputs": [],
   "source": [
    "train_df_fd = pd.read_csv('flight_delays_train.csv')\n",
    "test_df_fd = pd.read_csv('flight_delays_test.csv')\n",
    "train_df_fd['flight'] = train_df_fd['Origin'] + '-->' + train_df_fd['Dest']\n",
    "test_df_fd['flight'] = test_df_fd['Origin'] + '-->' + test_df_fd['Dest']\n",
    "train_df_fd['dep_delayed_15min'] = train_df_fd['dep_delayed_15min'].map({'Y' : 1, 'N' : 0})\n",
    "categ_feat_idx = np.where(train_df_fd.drop('dep_delayed_15min', axis=1).dtypes == 'object')[0]\n",
    "\n",
    "train_df_fd.Month.replace(['c-%d' % i for i in range(1, 13)], list(range(1, 13)), inplace=True)\n",
    "test_df_fd.Month.replace(['c-%d' % i for i in range(1, 13)], list(range(1, 13)), inplace=True)\n",
    "train_df_fd.DayofMonth.replace(['c-%d' % i for i in range(1, 32)], list(range(1, 32)), inplace=True)\n",
    "test_df_fd.DayofMonth.replace(['c-%d' % i for i in range(1, 32)], list(range(1, 32)), inplace=True)\n",
    "train_df_fd.DayOfWeek.replace(['c-%d' % i for i in range(1, 8)], list(range(1, 8)), inplace=True)\n",
    "test_df_fd.DayOfWeek.replace(['c-%d' % i for i in range(1, 8)], list(range(1, 8)), inplace=True)"
   ]
  },
  {
   "cell_type": "code",
   "execution_count": 18,
   "outputs": [],
   "source": [
    "# дропнем хвосты\n",
    "\n",
    "# train_df_fd = train_df_fd[train_df_fd['Distance'] < 2600]\n",
    "# train_df_fd = train_df_fd[train_df_fd['Distance'] < 2950]\n",
    "train_df_fd = train_df_fd[(train_df_fd['DepTime'] > 550)]\n",
    "# train_df_fd = train_df_fd[(train_df_fd['DepTime'] > 550) & (train_df_fd['DepTime'] < 2250)]"
   ],
   "metadata": {
    "collapsed": false,
    "pycharm": {
     "name": "#%%\n",
     "is_executing": false
    }
   }
  },
  {
   "cell_type": "code",
   "execution_count": 19,
   "metadata": {
    "pycharm": {
     "is_executing": false
    }
   },
   "outputs": [],
   "source": [
    "# train_df_fd['DepTime'] = scale(train_df_fd['DepTime'])\n",
    "# train_df_fd['Distance'] = scale(train_df_fd['Distance'])\n",
    "# test_df_fd['Distance'] = scale(test_df_fd['Distance'])\n",
    "# test_df_fd['DepTime'] = scale(test_df_fd['DepTime'])"
   ]
  },
  {
   "cell_type": "code",
   "execution_count": 20,
   "metadata": {
    "pycharm": {
     "is_executing": false
    }
   },
   "outputs": [],
   "source": [
    "# Дистанция и время отправления\n",
    "\n",
    "train_df_fd['DepTime_cat'] = np.floor(train_df_fd.DepTime / 100).astype('int')\n",
    "test_df_fd['DepTime_cat'] = np.floor(test_df_fd.DepTime / 100).astype('int')\n",
    "train_df_fd = train_df_fd[(train_df_fd['DepTime_cat'] > 4) & (train_df_fd['DepTime_cat'] < 24)]\n",
    "train_df_fd['distance_cat'] = np.floor(train_df_fd.Distance / 200).astype('int')\n",
    "test_df_fd['distance_cat'] = np.floor(test_df_fd.Distance / 200).astype('int')\n",
    "train_df_fd = train_df_fd[train_df_fd['distance_cat'] < 15]\n",
    "\n",
    "# Дни и месяцы\n",
    "\n",
    "train_df_fd['Months [6,7,12]'] = train_df_fd['Month'].apply(lambda x: 1 if x >= 6 \\\n",
    "                                                         and x <= 7 or x == 12 else 0)\n",
    "test_df_fd['Months [6,7,12]'] = test_df_fd['Month'].apply(lambda x: 1 if x >= 6 \\\n",
    "                                                       and x <= 7  or x == 12 else 0)\n",
    "train_df_fd['Months [2,3]'] = train_df_fd['Month'].apply(lambda x: 1 if x >= 2 \\\n",
    "                                                         and x <= 3 else 0)\n",
    "test_df_fd['Months [2,3]'] = test_df_fd['Month'].apply(lambda x: 1 if x >= 2 \\\n",
    "                                                       and x <= 3 else 0)\n",
    "\n",
    "# Еще признаки\n",
    "train_df_fd['Dep_minute'] =  train_df_fd['DepTime']%100\n",
    "test_df_fd['Dep_minute'] =  test_df_fd['DepTime']%100\n",
    "train_df_fd['DepTimeLog'] = train_df_fd['DepTime'].apply(lambda x: np.log(x))\n",
    "test_df_fd['DepTimeLog'] = test_df_fd['DepTime'].apply(lambda x: np.log(x))\n",
    "train_df_fd['DepTimepairs'] = train_df_fd['DepTime'] * np.append(train_df_fd['DepTime'][1:], 1)\n",
    "test_df_fd['DepTimepairs'] = test_df_fd['DepTime'] * np.append(test_df_fd['DepTime'][1:], 1)\n",
    "train_df_fd['DepTimesqrt'] = train_df_fd['DepTime'].apply(lambda x: np.sqrt(x))\n",
    "test_df_fd['DepTimesqrt'] = test_df_fd['DepTime'].apply(lambda x: np.sqrt(x))"
   ]
  },
  {
   "cell_type": "code",
   "execution_count": 21,
   "outputs": [],
   "source": [
    "y_train = train_df_fd['dep_delayed_15min']\n",
    "train_df_fd = train_df_fd.drop('dep_delayed_15min', axis=1)"
   ],
   "metadata": {
    "collapsed": false,
    "pycharm": {
     "name": "#%%\n",
     "is_executing": false
    }
   }
  },
  {
   "cell_type": "code",
   "execution_count": 22,
   "metadata": {
    "pycharm": {
     "is_executing": false
    }
   },
   "outputs": [
    {
     "data": {
      "text/plain": "(17, Index(['Month', 'DayofMonth', 'DayOfWeek', 'DepTime', 'UniqueCarrier',\n        'Origin', 'Dest', 'Distance', 'flight', 'DepTime_cat', 'distance_cat',\n        'Months [6,7,12]', 'Months [2,3]', 'Dep_minute', 'DepTimeLog',\n        'DepTimepairs', 'DepTimesqrt'],\n       dtype='object'), array([0, 1, 2, 4, 5, 6, 8, 7, 8, 9], dtype=int64))"
     },
     "metadata": {},
     "output_type": "execute_result",
     "execution_count": 22
    }
   ],
   "source": [
    "X_train_part, X_valid, y_train_part, y_valid = train_test_split(train_df_fd, y_train, \n",
    "                                                                test_size=0.3, \n",
    "                                                                random_state=17)\n",
    "len(X_train_part.columns), X_train_part.columns, np.append(categ_feat_idx, [7,8,9])"
   ]
  },
  {
   "cell_type": "code",
   "execution_count": 8,
   "outputs": [
    {
     "traceback": [
      "\u001b[1;31m---------------------------------------------------------------------------\u001b[0m",
      "\u001b[1;31mNameError\u001b[0m                                 Traceback (most recent call last)",
      "\u001b[1;32m<ipython-input-8-6a44c38b3444>\u001b[0m in \u001b[0;36m<module>\u001b[1;34m\u001b[0m\n\u001b[0;32m      1\u001b[0m \u001b[1;31m# %%time\u001b[0m\u001b[1;33m\u001b[0m\u001b[1;33m\u001b[0m\u001b[1;33m\u001b[0m\u001b[0m\n\u001b[0;32m      2\u001b[0m \u001b[0mctb\u001b[0m \u001b[1;33m=\u001b[0m \u001b[0mCatBoostClassifier\u001b[0m\u001b[1;33m(\u001b[0m\u001b[0mrandom_seed\u001b[0m\u001b[1;33m=\u001b[0m\u001b[1;36m17\u001b[0m\u001b[1;33m,\u001b[0m \u001b[0meval_metric\u001b[0m \u001b[1;33m=\u001b[0m \u001b[1;34m'AUC'\u001b[0m\u001b[1;33m)\u001b[0m\u001b[1;33m\u001b[0m\u001b[1;33m\u001b[0m\u001b[0m\n\u001b[1;32m----> 3\u001b[1;33m ctb.fit(X_train_part, y_train_part,\n\u001b[0m\u001b[0;32m      4\u001b[0m         \u001b[0meval_set\u001b[0m\u001b[1;33m=\u001b[0m\u001b[1;33m(\u001b[0m\u001b[0mX_valid\u001b[0m\u001b[1;33m,\u001b[0m \u001b[0my_valid\u001b[0m\u001b[1;33m)\u001b[0m\u001b[1;33m,\u001b[0m\u001b[1;33m\u001b[0m\u001b[1;33m\u001b[0m\u001b[0m\n\u001b[0;32m      5\u001b[0m         \u001b[0mcat_features\u001b[0m\u001b[1;33m=\u001b[0m\u001b[0mnp\u001b[0m\u001b[1;33m.\u001b[0m\u001b[0mappend\u001b[0m\u001b[1;33m(\u001b[0m\u001b[0mcateg_feat_idx\u001b[0m\u001b[1;33m,\u001b[0m \u001b[1;33m[\u001b[0m\u001b[1;36m9\u001b[0m\u001b[1;33m,\u001b[0m \u001b[1;36m10\u001b[0m\u001b[1;33m,\u001b[0m \u001b[1;36m15\u001b[0m\u001b[1;33m]\u001b[0m\u001b[1;33m)\u001b[0m\u001b[1;33m,\u001b[0m\u001b[1;33m\u001b[0m\u001b[1;33m\u001b[0m\u001b[0m\n",
      "\u001b[1;31mNameError\u001b[0m: name 'X_train_part' is not defined"
     ],
     "ename": "NameError",
     "evalue": "name 'X_train_part' is not defined",
     "output_type": "error"
    }
   ],
   "source": [
    "# %%time\n",
    "ctb = CatBoostClassifier(random_seed=17, eval_metric = 'AUC')\n",
    "ctb.fit(X_train_part, y_train_part,\n",
    "        eval_set=(X_valid, y_valid),\n",
    "        cat_features=np.append(categ_feat_idx, [9, 10, 15]),\n",
    "        early_stopping_rounds = 500,\n",
    "        verbose = 200,\n",
    "        use_best_model=True,\n",
    "        plot=False,\n",
    "    \n",
    "       );\n"
   ],
   "metadata": {
    "collapsed": false,
    "pycharm": {
     "name": "#%%\n",
     "is_executing": false
    }
   }
  },
  {
   "cell_type": "code",
   "execution_count": 26,
   "outputs": [
    {
     "data": {
      "text/plain": "         Feature Id  Importances\n0       DepTime_cat    14.318910\n1        Dep_minute    12.462822\n2            flight    11.942588\n3     UniqueCarrier    10.036473\n4            Origin     8.121630\n5              Dest     7.457263\n6           DepTime     6.579410\n7          Distance     5.268970\n8        DayofMonth     4.537578\n9             Month     4.270797\n10        DayOfWeek     3.818844\n11     distance_cat     3.283986\n12       DepTimeLog     3.221401\n13      DepTimesqrt     2.639247\n14     DepTimepairs     1.076856\n15  Months [6,7,12]     0.624042\n16     Months [2,3]     0.339183",
      "text/html": "<div>\n<style scoped>\n    .dataframe tbody tr th:only-of-type {\n        vertical-align: middle;\n    }\n\n    .dataframe tbody tr th {\n        vertical-align: top;\n    }\n\n    .dataframe thead th {\n        text-align: right;\n    }\n</style>\n<table border=\"1\" class=\"dataframe\">\n  <thead>\n    <tr style=\"text-align: right;\">\n      <th></th>\n      <th>Feature Id</th>\n      <th>Importances</th>\n    </tr>\n  </thead>\n  <tbody>\n    <tr>\n      <th>0</th>\n      <td>DepTime_cat</td>\n      <td>14.318910</td>\n    </tr>\n    <tr>\n      <th>1</th>\n      <td>Dep_minute</td>\n      <td>12.462822</td>\n    </tr>\n    <tr>\n      <th>2</th>\n      <td>flight</td>\n      <td>11.942588</td>\n    </tr>\n    <tr>\n      <th>3</th>\n      <td>UniqueCarrier</td>\n      <td>10.036473</td>\n    </tr>\n    <tr>\n      <th>4</th>\n      <td>Origin</td>\n      <td>8.121630</td>\n    </tr>\n    <tr>\n      <th>5</th>\n      <td>Dest</td>\n      <td>7.457263</td>\n    </tr>\n    <tr>\n      <th>6</th>\n      <td>DepTime</td>\n      <td>6.579410</td>\n    </tr>\n    <tr>\n      <th>7</th>\n      <td>Distance</td>\n      <td>5.268970</td>\n    </tr>\n    <tr>\n      <th>8</th>\n      <td>DayofMonth</td>\n      <td>4.537578</td>\n    </tr>\n    <tr>\n      <th>9</th>\n      <td>Month</td>\n      <td>4.270797</td>\n    </tr>\n    <tr>\n      <th>10</th>\n      <td>DayOfWeek</td>\n      <td>3.818844</td>\n    </tr>\n    <tr>\n      <th>11</th>\n      <td>distance_cat</td>\n      <td>3.283986</td>\n    </tr>\n    <tr>\n      <th>12</th>\n      <td>DepTimeLog</td>\n      <td>3.221401</td>\n    </tr>\n    <tr>\n      <th>13</th>\n      <td>DepTimesqrt</td>\n      <td>2.639247</td>\n    </tr>\n    <tr>\n      <th>14</th>\n      <td>DepTimepairs</td>\n      <td>1.076856</td>\n    </tr>\n    <tr>\n      <th>15</th>\n      <td>Months [6,7,12]</td>\n      <td>0.624042</td>\n    </tr>\n    <tr>\n      <th>16</th>\n      <td>Months [2,3]</td>\n      <td>0.339183</td>\n    </tr>\n  </tbody>\n</table>\n</div>"
     },
     "metadata": {},
     "output_type": "execute_result",
     "execution_count": 26
    }
   ],
   "source": [
    "ctb.get_feature_importance(prettified=True)"
   ],
   "metadata": {
    "collapsed": false,
    "pycharm": {
     "name": "#%%\n",
     "is_executing": false
    }
   }
  },
  {
   "cell_type": "code",
   "execution_count": null,
   "metadata": {
    "pycharm": {
     "is_executing": false
    }
   },
   "outputs": [],
   "source": [
    "# %%time\n",
    "ctb = CatBoostClassifier(random_seed=17, eval_metric = 'AUC')\n",
    "ctb.fit(X_train_part, y_train_part,\n",
    "        eval_set=(X_valid, y_valid),\n",
    "        cat_features=np.append(categ_feat_idx, [9, 10, 15]),\n",
    "        early_stopping_rounds = 500,\n",
    "        verbose = 200,\n",
    "        use_best_model=True,\n",
    "        plot=False,\n",
    "    \n",
    "       );"
   ]
  },
  {
   "cell_type": "code",
   "execution_count": null,
   "metadata": {
    "pycharm": {
     "is_executing": false
    }
   },
   "outputs": [],
   "source": [
    "ctb.get_feature_importance(prettified=True)"
   ]
  },
  {
   "cell_type": "code",
   "execution_count": 23,
   "outputs": [
    {
     "name": "stdout",
     "text": [
      "0:\ttest: 0.6766243\tbest: 0.6766243 (0)\ttotal: 2.43s\tremaining: 40m 31s\n",
      "200:\ttest: 0.7619299\tbest: 0.7619299 (200)\ttotal: 6m 25s\tremaining: 25m 31s\n",
      "400:\ttest: 0.7722416\tbest: 0.7722416 (400)\ttotal: 14m 35s\tremaining: 21m 48s\n",
      "600:\ttest: 0.7805212\tbest: 0.7805212 (600)\ttotal: 25m 19s\tremaining: 16m 48s\n",
      "800:\ttest: 0.7842919\tbest: 0.7842919 (800)\ttotal: 29m 42s\tremaining: 7m 22s\n",
      "999:\ttest: 0.7871008\tbest: 0.7871008 (999)\ttotal: 33m 32s\tremaining: 0us\n"
     ],
     "output_type": "stream"
    }
   ],
   "source": [
    "params = {'loss_function':'Logloss',\n",
    "          'eval_metric':'AUC',\n",
    "          'verbose': 200,\n",
    "          'random_seed': 17\n",
    "         }\n",
    "all_train_data = Pool(data=train_df_fd,\n",
    "                      label=y_train,\n",
    "                      cat_features=np.append(categ_feat_idx, [9, 10, 15])\n",
    "                     )\n",
    "scores = cv(pool=all_train_data,\n",
    "            params=params, \n",
    "            fold_count=3,\n",
    "            seed=17, \n",
    "            shuffle=True,\n",
    "            stratified=True, # if True the folds are made by preserving the percentage of samples for each class\n",
    "            plot=False\n",
    "           )"
   ],
   "metadata": {
    "collapsed": false,
    "pycharm": {
     "name": "#%%\n",
     "is_executing": false
    }
   }
  },
  {
   "cell_type": "code",
   "execution_count": null,
   "outputs": [],
   "source": [
    "\n"
   ],
   "metadata": {
    "collapsed": false,
    "pycharm": {
     "name": "#%%\n"
    }
   }
  }
 ],
 "metadata": {
  "kernelspec": {
   "display_name": "Python 3",
   "language": "python",
   "name": "python3"
  },
  "language_info": {
   "codemirror_mode": {
    "name": "ipython",
    "version": 3
   },
   "file_extension": ".py",
   "mimetype": "text/x-python",
   "name": "python",
   "nbconvert_exporter": "python",
   "pygments_lexer": "ipython3",
   "version": "3.7.3"
  },
  "pycharm": {
   "stem_cell": {
    "cell_type": "raw",
    "source": [],
    "metadata": {
     "collapsed": false
    }
   }
  }
 },
 "nbformat": 4,
 "nbformat_minor": 2
}